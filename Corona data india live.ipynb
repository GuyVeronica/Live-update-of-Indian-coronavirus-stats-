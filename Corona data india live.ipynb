{
 "cells": [
  {
   "cell_type": "code",
   "execution_count": 38,
   "metadata": {},
   "outputs": [],
   "source": [
    "import requests \n",
    "from bs4 import BeautifulSoup \n",
    "from tabulate import tabulate \n",
    "import os \n",
    "import numpy as np \n",
    "import matplotlib.pyplot as plt "
   ]
  },
  {
   "cell_type": "code",
   "execution_count": 39,
   "metadata": {},
   "outputs": [],
   "source": [
    "extract_contents = lambda row: [x.text.replace('\\n', '') for x in row] \n",
    "URL = 'https://www.mohfw.gov.in/'\n",
    "  \n",
    "SHORT_HEADERS = ['SNo', 'State','Confirmed','Cured','Deaths'] \n",
    "  \n",
    "response = requests.get(URL).content \n",
    "soup = BeautifulSoup(response, 'html.parser') \n",
    "header = extract_contents(soup.tr.find_all('th')) \n",
    "  \n",
    "stats = [] \n",
    "all_rows = soup.find_all('tr') \n",
    "  \n",
    "for row in all_rows: \n",
    "    stat = extract_contents(row.find_all('td')) \n",
    "    if stat: \n",
    "        if len(stat) == 6: \n",
    "            # last row \n",
    "            stat = ['', *stat] \n",
    "            stats.append(stat) \n",
    "        elif len(stat) == 5: \n",
    "            stats.append(stat) \n"
   ]
  },
  {
   "cell_type": "code",
   "execution_count": 40,
   "metadata": {},
   "outputs": [
    {
     "name": "stdout",
     "output_type": "stream",
     "text": [
      "  SNo  State                          Confirmed    Cured    Deaths\n",
      "-----  ---------------------------  -----------  -------  --------\n",
      "    1  Andhra Pradesh                        83        0         0\n",
      "    2  Andaman and Nicobar Islands           10        1         0\n",
      "    3  Assam                                  1        0         0\n",
      "    4  Bihar                                 23        0         1\n",
      "    5  Chandigarh                            16        0         0\n",
      "    6  Chhattisgarh                           9        2         0\n",
      "    7  Delhi                                152        6         2\n",
      "    8  Goa                                    5        0         0\n",
      "    9  Gujarat                               82        5         6\n",
      "   10  Haryana                               43       21         0\n",
      "   11  Himachal Pradesh                       3        0         1\n",
      "   12  Jammu and Kashmir                     62        2         2\n",
      "   13  Jharkhand                              1        0         0\n",
      "   14  Karnataka                            101        8         3\n",
      "   15  Kerala                               241       23         2\n",
      "   16  Ladakh                                13        3         0\n",
      "   17  Madhya Pradesh                        66        0         3\n",
      "   18  Maharashtra                          302       39         9\n",
      "   19  Manipur                                1        0         0\n",
      "   20  Mizoram                                1        0         0\n",
      "   21  Odisha                                 4        0         0\n",
      "   22  Puducherry                             3        1         0\n",
      "   23  Punjab                                42        1         3\n",
      "   24  Rajasthan                             93        3         0\n",
      "   25  Tamil Nadu                           234        6         1\n",
      "   26  Telengana                             96        1         3\n",
      "   27  Uttarakhand                            7        2         0\n",
      "   28  Uttar Pradesh                        103       14         2\n",
      "   29  West Bengal                           37        6         3 \n",
      "\n",
      "\n",
      "Total Cases in India :\t 1834\n",
      "Cases Cured in India :\t 144\n",
      "Total Deaths in India :\t 41\n"
     ]
    }
   ],
   "source": [
    "objects = [] \n",
    "for row in stats : \n",
    "    objects.append(row[1])  \n",
    "  \n",
    "y_pos = np.arange(len(objects)) \n",
    "  \n",
    "performance = [] \n",
    "for row in stats : \n",
    "    performance.append(int(row[2]) + int(row[3])) \n",
    "  \n",
    "table = tabulate(stats, headers=SHORT_HEADERS) \n",
    "\n",
    "print(table, '\\n\\n') \n",
    "print('Total Cases in India :\\t', stat[1])\n",
    "print('Cases Cured in India :\\t', stat[2])\n",
    "print('Total Deaths in India :\\t', stat[3])\n"
   ]
  },
  {
   "cell_type": "code",
   "execution_count": null,
   "metadata": {},
   "outputs": [],
   "source": []
  },
  {
   "cell_type": "code",
   "execution_count": null,
   "metadata": {},
   "outputs": [],
   "source": []
  }
 ],
 "metadata": {
  "kernelspec": {
   "display_name": "Python 3",
   "language": "python",
   "name": "python3"
  },
  "language_info": {
   "codemirror_mode": {
    "name": "ipython",
    "version": 3
   },
   "file_extension": ".py",
   "mimetype": "text/x-python",
   "name": "python",
   "nbconvert_exporter": "python",
   "pygments_lexer": "ipython3",
   "version": "3.7.6"
  }
 },
 "nbformat": 4,
 "nbformat_minor": 4
}
